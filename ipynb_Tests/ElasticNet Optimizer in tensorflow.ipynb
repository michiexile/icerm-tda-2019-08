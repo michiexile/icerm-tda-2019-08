{
 "cells": [
  {
   "cell_type": "markdown",
   "metadata": {},
   "source": [
    "# Code exploring using TensorFlow for L1 gradient descent\n",
    "\n",
    "The basic problem we derive for $L_1$-smoothing of a circular coordinate function is this:\n",
    "\n",
    "$$\n",
    "\\min_{z\\in\\mathbb{R}^m} \\|f - \\delta z\\|_1\n",
    "$$\n",
    "\n",
    "where $f\\in\\mathbb{R}^n$ and $\\delta\\in\\mathbb{R}^{n\\times m}$."
   ]
  },
  {
   "cell_type": "code",
   "execution_count": 1,
   "metadata": {},
   "outputs": [
    {
     "name": "stdout",
     "output_type": "stream",
     "text": [
      "Populating the interactive namespace from numpy and matplotlib\n"
     ]
    }
   ],
   "source": [
    "%pylab inline\n",
    "import tensorflow as tf"
   ]
  },
  {
   "cell_type": "code",
   "execution_count": 2,
   "metadata": {},
   "outputs": [],
   "source": [
    "n = 10\n",
    "m = 7\n",
    "l = array([1])\n",
    "\n",
    "f = random.rand(n,1)\n",
    "bdry = random.rand(n,m)"
   ]
  },
  {
   "cell_type": "code",
   "execution_count": 3,
   "metadata": {},
   "outputs": [
    {
     "name": "stdout",
     "output_type": "stream",
     "text": [
      "WARNING:tensorflow:From /usr/local/lib/python3.7/site-packages/tensorflow/python/framework/op_def_library.py:263: colocate_with (from tensorflow.python.framework.ops) is deprecated and will be removed in a future version.\n",
      "Instructions for updating:\n",
      "Colocations handled automatically by placer.\n"
     ]
    }
   ],
   "source": [
    "Z = tf.get_variable(\"Z\", (m,1), dtype=tf.float32)\n",
    "F = tf.placeholder(dtype=tf.float32, shape=(n,1))\n",
    "B = tf.placeholder(dtype=tf.float32, shape=(n,m))\n",
    "L = tf.placeholder(dtype=tf.float32, shape=(1,))\n",
    "\n",
    "cost = tf.reduce_sum(tf.square(F - B@Z)) + L*tf.reduce_sum(tf.abs(Z))"
   ]
  },
  {
   "cell_type": "code",
   "execution_count": 4,
   "metadata": {},
   "outputs": [],
   "source": [
    "optimizer = tf.train.AdamOptimizer(.01)\n",
    "train = optimizer.minimize(cost)"
   ]
  },
  {
   "cell_type": "code",
   "execution_count": 5,
   "metadata": {},
   "outputs": [],
   "source": [
    "init = tf.global_variables_initializer()"
   ]
  },
  {
   "cell_type": "code",
   "execution_count": 6,
   "metadata": {},
   "outputs": [
    {
     "name": "stdout",
     "output_type": "stream",
     "text": [
      "[5.4588447]\n",
      "[1.4781127]\n",
      "[1.4799757]\n",
      "[1.4788637]\n",
      "[1.478698]\n",
      "[1.4782958]\n",
      "[1.4789286]\n",
      "[1.478493]\n",
      "[1.4784831]\n",
      "[1.4768677]\n"
     ]
    },
    {
     "data": {
      "text/plain": [
       "(array([[ 0.2875696 ],\n",
       "        [ 0.3747108 ],\n",
       "        [ 0.01121028],\n",
       "        [-0.00230566],\n",
       "        [ 0.0209135 ],\n",
       "        [ 0.01612005],\n",
       "        [ 0.00131717]], dtype=float32), 2.483880325925246)"
      ]
     },
     "execution_count": 6,
     "metadata": {},
     "output_type": "execute_result"
    }
   ],
   "source": [
    "Zv = None\n",
    "with tf.Session() as session:\n",
    "    session.run(init)\n",
    "    for i in range(10000):\n",
    "        session.run(train, {F:f, B:bdry, L: l})\n",
    "        if i%1000 == 0:\n",
    "            print(session.run(cost, {F:f, B:bdry, L: l}))\n",
    "    Zv = session.run(Z)\n",
    "Zv"
   ]
  },
  {
   "cell_type": "code",
   "execution_count": null,
   "metadata": {},
   "outputs": [],
   "source": []
  }
 ],
 "metadata": {
  "kernelspec": {
   "display_name": "Python 3",
   "language": "python",
   "name": "python3"
  },
  "language_info": {
   "codemirror_mode": {
    "name": "ipython",
    "version": 3
   },
   "file_extension": ".py",
   "mimetype": "text/x-python",
   "name": "python",
   "nbconvert_exporter": "python",
   "pygments_lexer": "ipython3",
   "version": "3.7.2"
  }
 },
 "nbformat": 4,
 "nbformat_minor": 2
}
